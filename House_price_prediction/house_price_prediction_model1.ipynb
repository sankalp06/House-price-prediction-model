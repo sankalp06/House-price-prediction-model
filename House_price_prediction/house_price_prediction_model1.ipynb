{
 "cells": [
  {
   "cell_type": "code",
   "execution_count": 1,
   "metadata": {},
   "outputs": [],
   "source": [
    "import pandas as pd\n",
    "import numpy as np\n",
    "import matplotlib.pyplot as plt\n",
    "import seaborn as sns\n",
    "import math\n",
    "import random\n",
    "\n",
    "%matplotlib inline\n",
    "pd.set_option('display.max_rows', 200)\n",
    "pd.set_option('display.max_columns', 200)"
   ]
  },
  {
   "cell_type": "code",
   "execution_count": 2,
   "metadata": {
    "scrolled": true
   },
   "outputs": [
    {
     "data": {
      "text/html": [
       "<div>\n",
       "<style scoped>\n",
       "    .dataframe tbody tr th:only-of-type {\n",
       "        vertical-align: middle;\n",
       "    }\n",
       "\n",
       "    .dataframe tbody tr th {\n",
       "        vertical-align: top;\n",
       "    }\n",
       "\n",
       "    .dataframe thead th {\n",
       "        text-align: right;\n",
       "    }\n",
       "</style>\n",
       "<table border=\"1\" class=\"dataframe\">\n",
       "  <thead>\n",
       "    <tr style=\"text-align: right;\">\n",
       "      <th></th>\n",
       "      <th>price</th>\n",
       "      <th>bedrooms</th>\n",
       "      <th>bathrooms</th>\n",
       "      <th>sqft_living</th>\n",
       "      <th>sqft_lot</th>\n",
       "      <th>floors</th>\n",
       "      <th>waterfront</th>\n",
       "      <th>view</th>\n",
       "      <th>condition</th>\n",
       "      <th>grade</th>\n",
       "      <th>yr_built</th>\n",
       "      <th>zipcode</th>\n",
       "      <th>lat</th>\n",
       "      <th>long</th>\n",
       "      <th>sqft_living15</th>\n",
       "      <th>sqft_lot15</th>\n",
       "      <th>hasBasement</th>\n",
       "      <th>year</th>\n",
       "      <th>month</th>\n",
       "      <th>renovated</th>\n",
       "    </tr>\n",
       "  </thead>\n",
       "  <tbody>\n",
       "    <tr>\n",
       "      <th>0</th>\n",
       "      <td>221900.0</td>\n",
       "      <td>3.0</td>\n",
       "      <td>1.00</td>\n",
       "      <td>1180</td>\n",
       "      <td>5650</td>\n",
       "      <td>1.0</td>\n",
       "      <td>0.0</td>\n",
       "      <td>0.0</td>\n",
       "      <td>3</td>\n",
       "      <td>7</td>\n",
       "      <td>1955</td>\n",
       "      <td>98178</td>\n",
       "      <td>47.51120</td>\n",
       "      <td>-122.257</td>\n",
       "      <td>1340</td>\n",
       "      <td>5650</td>\n",
       "      <td>0</td>\n",
       "      <td>2014</td>\n",
       "      <td>10</td>\n",
       "      <td>0</td>\n",
       "    </tr>\n",
       "    <tr>\n",
       "      <th>1</th>\n",
       "      <td>538000.0</td>\n",
       "      <td>3.0</td>\n",
       "      <td>2.25</td>\n",
       "      <td>2570</td>\n",
       "      <td>7242</td>\n",
       "      <td>2.0</td>\n",
       "      <td>0.0</td>\n",
       "      <td>0.0</td>\n",
       "      <td>3</td>\n",
       "      <td>7</td>\n",
       "      <td>1951</td>\n",
       "      <td>98125</td>\n",
       "      <td>47.72100</td>\n",
       "      <td>-122.319</td>\n",
       "      <td>1690</td>\n",
       "      <td>7639</td>\n",
       "      <td>1</td>\n",
       "      <td>2014</td>\n",
       "      <td>12</td>\n",
       "      <td>1</td>\n",
       "    </tr>\n",
       "    <tr>\n",
       "      <th>2</th>\n",
       "      <td>180000.0</td>\n",
       "      <td>2.0</td>\n",
       "      <td>1.00</td>\n",
       "      <td>770</td>\n",
       "      <td>10000</td>\n",
       "      <td>1.0</td>\n",
       "      <td>0.0</td>\n",
       "      <td>0.0</td>\n",
       "      <td>3</td>\n",
       "      <td>6</td>\n",
       "      <td>1933</td>\n",
       "      <td>98028</td>\n",
       "      <td>47.75545</td>\n",
       "      <td>-122.233</td>\n",
       "      <td>2720</td>\n",
       "      <td>8062</td>\n",
       "      <td>0</td>\n",
       "      <td>2015</td>\n",
       "      <td>2</td>\n",
       "      <td>0</td>\n",
       "    </tr>\n",
       "    <tr>\n",
       "      <th>3</th>\n",
       "      <td>604000.0</td>\n",
       "      <td>4.0</td>\n",
       "      <td>3.00</td>\n",
       "      <td>1960</td>\n",
       "      <td>5000</td>\n",
       "      <td>1.0</td>\n",
       "      <td>0.0</td>\n",
       "      <td>0.0</td>\n",
       "      <td>5</td>\n",
       "      <td>7</td>\n",
       "      <td>1965</td>\n",
       "      <td>98136</td>\n",
       "      <td>47.52080</td>\n",
       "      <td>-122.393</td>\n",
       "      <td>1360</td>\n",
       "      <td>5000</td>\n",
       "      <td>1</td>\n",
       "      <td>2014</td>\n",
       "      <td>12</td>\n",
       "      <td>0</td>\n",
       "    </tr>\n",
       "    <tr>\n",
       "      <th>4</th>\n",
       "      <td>510000.0</td>\n",
       "      <td>3.0</td>\n",
       "      <td>2.00</td>\n",
       "      <td>1680</td>\n",
       "      <td>8080</td>\n",
       "      <td>1.0</td>\n",
       "      <td>0.0</td>\n",
       "      <td>0.0</td>\n",
       "      <td>3</td>\n",
       "      <td>8</td>\n",
       "      <td>1987</td>\n",
       "      <td>98074</td>\n",
       "      <td>47.61680</td>\n",
       "      <td>-122.045</td>\n",
       "      <td>1800</td>\n",
       "      <td>7503</td>\n",
       "      <td>0</td>\n",
       "      <td>2015</td>\n",
       "      <td>2</td>\n",
       "      <td>0</td>\n",
       "    </tr>\n",
       "  </tbody>\n",
       "</table>\n",
       "</div>"
      ],
      "text/plain": [
       "      price  bedrooms  bathrooms  sqft_living  sqft_lot  floors  waterfront  \\\n",
       "0  221900.0       3.0       1.00         1180      5650     1.0         0.0   \n",
       "1  538000.0       3.0       2.25         2570      7242     2.0         0.0   \n",
       "2  180000.0       2.0       1.00          770     10000     1.0         0.0   \n",
       "3  604000.0       4.0       3.00         1960      5000     1.0         0.0   \n",
       "4  510000.0       3.0       2.00         1680      8080     1.0         0.0   \n",
       "\n",
       "   view  condition  grade  yr_built  zipcode       lat     long  \\\n",
       "0   0.0          3      7      1955    98178  47.51120 -122.257   \n",
       "1   0.0          3      7      1951    98125  47.72100 -122.319   \n",
       "2   0.0          3      6      1933    98028  47.75545 -122.233   \n",
       "3   0.0          5      7      1965    98136  47.52080 -122.393   \n",
       "4   0.0          3      8      1987    98074  47.61680 -122.045   \n",
       "\n",
       "   sqft_living15  sqft_lot15  hasBasement  year  month  renovated  \n",
       "0           1340        5650            0  2014     10          0  \n",
       "1           1690        7639            1  2014     12          1  \n",
       "2           2720        8062            0  2015      2          0  \n",
       "3           1360        5000            1  2014     12          0  \n",
       "4           1800        7503            0  2015      2          0  "
      ]
     },
     "execution_count": 2,
     "metadata": {},
     "output_type": "execute_result"
    }
   ],
   "source": [
    "df = pd.read_csv('housing_data_with_new.csv')\n",
    "df.head()"
   ]
  },
  {
   "cell_type": "markdown",
   "metadata": {},
   "source": [
    "##### Split into Training & Test"
   ]
  },
  {
   "cell_type": "code",
   "execution_count": 3,
   "metadata": {},
   "outputs": [],
   "source": [
    "from sklearn.model_selection import train_test_split\n",
    "from sklearn.preprocessing import MinMaxScaler"
   ]
  },
  {
   "cell_type": "code",
   "execution_count": 4,
   "metadata": {},
   "outputs": [],
   "source": [
    "df_y = df['price']\n",
    "df_x = df.drop('price', axis = 1)"
   ]
  },
  {
   "cell_type": "code",
   "execution_count": 5,
   "metadata": {},
   "outputs": [
    {
     "data": {
      "text/html": [
       "<div>\n",
       "<style scoped>\n",
       "    .dataframe tbody tr th:only-of-type {\n",
       "        vertical-align: middle;\n",
       "    }\n",
       "\n",
       "    .dataframe tbody tr th {\n",
       "        vertical-align: top;\n",
       "    }\n",
       "\n",
       "    .dataframe thead th {\n",
       "        text-align: right;\n",
       "    }\n",
       "</style>\n",
       "<table border=\"1\" class=\"dataframe\">\n",
       "  <thead>\n",
       "    <tr style=\"text-align: right;\">\n",
       "      <th></th>\n",
       "      <th>bedrooms</th>\n",
       "      <th>bathrooms</th>\n",
       "      <th>sqft_living</th>\n",
       "      <th>sqft_lot</th>\n",
       "      <th>floors</th>\n",
       "      <th>waterfront</th>\n",
       "      <th>view</th>\n",
       "      <th>condition</th>\n",
       "      <th>grade</th>\n",
       "      <th>yr_built</th>\n",
       "      <th>zipcode</th>\n",
       "      <th>lat</th>\n",
       "      <th>long</th>\n",
       "      <th>sqft_living15</th>\n",
       "      <th>sqft_lot15</th>\n",
       "      <th>hasBasement</th>\n",
       "      <th>year</th>\n",
       "      <th>month</th>\n",
       "      <th>renovated</th>\n",
       "    </tr>\n",
       "  </thead>\n",
       "  <tbody>\n",
       "    <tr>\n",
       "      <th>0</th>\n",
       "      <td>3.0</td>\n",
       "      <td>1.00</td>\n",
       "      <td>1180</td>\n",
       "      <td>5650</td>\n",
       "      <td>1.0</td>\n",
       "      <td>0.0</td>\n",
       "      <td>0.0</td>\n",
       "      <td>3</td>\n",
       "      <td>7</td>\n",
       "      <td>1955</td>\n",
       "      <td>98178</td>\n",
       "      <td>47.51120</td>\n",
       "      <td>-122.257</td>\n",
       "      <td>1340</td>\n",
       "      <td>5650</td>\n",
       "      <td>0</td>\n",
       "      <td>2014</td>\n",
       "      <td>10</td>\n",
       "      <td>0</td>\n",
       "    </tr>\n",
       "    <tr>\n",
       "      <th>1</th>\n",
       "      <td>3.0</td>\n",
       "      <td>2.25</td>\n",
       "      <td>2570</td>\n",
       "      <td>7242</td>\n",
       "      <td>2.0</td>\n",
       "      <td>0.0</td>\n",
       "      <td>0.0</td>\n",
       "      <td>3</td>\n",
       "      <td>7</td>\n",
       "      <td>1951</td>\n",
       "      <td>98125</td>\n",
       "      <td>47.72100</td>\n",
       "      <td>-122.319</td>\n",
       "      <td>1690</td>\n",
       "      <td>7639</td>\n",
       "      <td>1</td>\n",
       "      <td>2014</td>\n",
       "      <td>12</td>\n",
       "      <td>1</td>\n",
       "    </tr>\n",
       "    <tr>\n",
       "      <th>2</th>\n",
       "      <td>2.0</td>\n",
       "      <td>1.00</td>\n",
       "      <td>770</td>\n",
       "      <td>10000</td>\n",
       "      <td>1.0</td>\n",
       "      <td>0.0</td>\n",
       "      <td>0.0</td>\n",
       "      <td>3</td>\n",
       "      <td>6</td>\n",
       "      <td>1933</td>\n",
       "      <td>98028</td>\n",
       "      <td>47.75545</td>\n",
       "      <td>-122.233</td>\n",
       "      <td>2720</td>\n",
       "      <td>8062</td>\n",
       "      <td>0</td>\n",
       "      <td>2015</td>\n",
       "      <td>2</td>\n",
       "      <td>0</td>\n",
       "    </tr>\n",
       "    <tr>\n",
       "      <th>3</th>\n",
       "      <td>4.0</td>\n",
       "      <td>3.00</td>\n",
       "      <td>1960</td>\n",
       "      <td>5000</td>\n",
       "      <td>1.0</td>\n",
       "      <td>0.0</td>\n",
       "      <td>0.0</td>\n",
       "      <td>5</td>\n",
       "      <td>7</td>\n",
       "      <td>1965</td>\n",
       "      <td>98136</td>\n",
       "      <td>47.52080</td>\n",
       "      <td>-122.393</td>\n",
       "      <td>1360</td>\n",
       "      <td>5000</td>\n",
       "      <td>1</td>\n",
       "      <td>2014</td>\n",
       "      <td>12</td>\n",
       "      <td>0</td>\n",
       "    </tr>\n",
       "    <tr>\n",
       "      <th>4</th>\n",
       "      <td>3.0</td>\n",
       "      <td>2.00</td>\n",
       "      <td>1680</td>\n",
       "      <td>8080</td>\n",
       "      <td>1.0</td>\n",
       "      <td>0.0</td>\n",
       "      <td>0.0</td>\n",
       "      <td>3</td>\n",
       "      <td>8</td>\n",
       "      <td>1987</td>\n",
       "      <td>98074</td>\n",
       "      <td>47.61680</td>\n",
       "      <td>-122.045</td>\n",
       "      <td>1800</td>\n",
       "      <td>7503</td>\n",
       "      <td>0</td>\n",
       "      <td>2015</td>\n",
       "      <td>2</td>\n",
       "      <td>0</td>\n",
       "    </tr>\n",
       "  </tbody>\n",
       "</table>\n",
       "</div>"
      ],
      "text/plain": [
       "   bedrooms  bathrooms  sqft_living  sqft_lot  floors  waterfront  view  \\\n",
       "0       3.0       1.00         1180      5650     1.0         0.0   0.0   \n",
       "1       3.0       2.25         2570      7242     2.0         0.0   0.0   \n",
       "2       2.0       1.00          770     10000     1.0         0.0   0.0   \n",
       "3       4.0       3.00         1960      5000     1.0         0.0   0.0   \n",
       "4       3.0       2.00         1680      8080     1.0         0.0   0.0   \n",
       "\n",
       "   condition  grade  yr_built  zipcode       lat     long  sqft_living15  \\\n",
       "0          3      7      1955    98178  47.51120 -122.257           1340   \n",
       "1          3      7      1951    98125  47.72100 -122.319           1690   \n",
       "2          3      6      1933    98028  47.75545 -122.233           2720   \n",
       "3          5      7      1965    98136  47.52080 -122.393           1360   \n",
       "4          3      8      1987    98074  47.61680 -122.045           1800   \n",
       "\n",
       "   sqft_lot15  hasBasement  year  month  renovated  \n",
       "0        5650            0  2014     10          0  \n",
       "1        7639            1  2014     12          1  \n",
       "2        8062            0  2015      2          0  \n",
       "3        5000            1  2014     12          0  \n",
       "4        7503            0  2015      2          0  "
      ]
     },
     "execution_count": 5,
     "metadata": {},
     "output_type": "execute_result"
    }
   ],
   "source": [
    "df_x.head()"
   ]
  },
  {
   "cell_type": "code",
   "execution_count": 6,
   "metadata": {},
   "outputs": [],
   "source": [
    "train_x_org, test_x_org, train_y, test_y = train_test_split(df_x, df_y, random_state = 42)\n",
    "\n",
    "scaler = MinMaxScaler()\n",
    "\n",
    "train_x = scaler.fit_transform(train_x_org)\n",
    "test_x = scaler.transform(test_x_org)"
   ]
  },
  {
   "cell_type": "markdown",
   "metadata": {},
   "source": [
    "### Bagging"
   ]
  },
  {
   "cell_type": "markdown",
   "metadata": {},
   "source": [
    "###### Linear Regression with Bagging"
   ]
  },
  {
   "cell_type": "code",
   "execution_count": 7,
   "metadata": {},
   "outputs": [],
   "source": [
    "from sklearn.ensemble import BaggingRegressor\n",
    "from sklearn.linear_model import LinearRegression\n",
    "from sklearn.model_selection import GridSearchCV"
   ]
  },
  {
   "cell_type": "code",
   "execution_count": 8,
   "metadata": {},
   "outputs": [],
   "source": [
    "param_grid = {'n_estimators': [200,500], \n",
    "             'max_samples': [0.1, 0.2, 0.5],\n",
    "             'max_features': [0.1, 0.3, 0.5]}"
   ]
  },
  {
   "cell_type": "code",
   "execution_count": 9,
   "metadata": {
    "scrolled": true
   },
   "outputs": [
    {
     "data": {
      "text/plain": [
       "GridSearchCV(cv=5,\n",
       "             estimator=BaggingRegressor(base_estimator=LinearRegression(),\n",
       "                                        oob_score=True, random_state=42),\n",
       "             n_jobs=-1,\n",
       "             param_grid={'max_features': [0.1, 0.3, 0.5],\n",
       "                         'max_samples': [0.1, 0.2, 0.5],\n",
       "                         'n_estimators': [200, 500]})"
      ]
     },
     "execution_count": 9,
     "metadata": {},
     "output_type": "execute_result"
    }
   ],
   "source": [
    "lreg = LinearRegression()\n",
    "bag_lreg = BaggingRegressor(lreg, bootstrap = True, random_state = 42, oob_score = True)\n",
    "bag_grid = GridSearchCV(bag_lreg, param_grid = param_grid, cv = 5, n_jobs = -1)\n",
    "bag_grid.fit(train_x, train_y)"
   ]
  },
  {
   "cell_type": "code",
   "execution_count": 10,
   "metadata": {},
   "outputs": [
    {
     "name": "stdout",
     "output_type": "stream",
     "text": [
      "Best Cross Validation Score: 0.6458\n",
      "Best Parameters: {'max_features': 0.5, 'max_samples': 0.5, 'n_estimators': 500}\n"
     ]
    }
   ],
   "source": [
    "print('Best Cross Validation Score: {:.4f}'.format(bag_grid.best_score_))\n",
    "print('Best Parameters: {}'.format(bag_grid.best_params_))"
   ]
  },
  {
   "cell_type": "code",
   "execution_count": 11,
   "metadata": {},
   "outputs": [
    {
     "name": "stdout",
     "output_type": "stream",
     "text": [
      "Train Score: 0.6448\n",
      "Test Score: 0.6430\n",
      "Out-of-bag score: 0.6437\n"
     ]
    }
   ],
   "source": [
    "lreg = LinearRegression()\n",
    "bag_lreg = BaggingRegressor(lreg, bootstrap = True, random_state = 42, oob_score = True,\n",
    "                           max_features = 0.5, max_samples = 0.5, n_estimators = 500)\n",
    "bag_lreg.fit(train_x, train_y)\n",
    "\n",
    "print('Train Score: %.4f'% bag_lreg.score(train_x, train_y))\n",
    "print('Test Score: %.4f'% bag_lreg.score(test_x, test_y))\n",
    "print('Out-of-bag score: %.4f'%bag_lreg.oob_score_)"
   ]
  },
  {
   "cell_type": "markdown",
   "metadata": {},
   "source": [
    "###### Polynomial Regression with Bagging"
   ]
  },
  {
   "cell_type": "code",
   "execution_count": 12,
   "metadata": {},
   "outputs": [],
   "source": [
    "from sklearn.preprocessing import PolynomialFeatures"
   ]
  },
  {
   "cell_type": "code",
   "execution_count": 13,
   "metadata": {},
   "outputs": [],
   "source": [
    "param_grid = {'n_estimators': [200,500], \n",
    "             'max_samples': [0.1, 0.2, 0.5],\n",
    "             'max_features': [0.1, 0.3, 0.5]}"
   ]
  },
  {
   "cell_type": "code",
   "execution_count": 14,
   "metadata": {},
   "outputs": [
    {
     "data": {
      "text/plain": [
       "GridSearchCV(cv=5,\n",
       "             estimator=BaggingRegressor(base_estimator=LinearRegression(),\n",
       "                                        oob_score=True, random_state=42),\n",
       "             n_jobs=-1,\n",
       "             param_grid={'max_features': [0.1, 0.3, 0.5],\n",
       "                         'max_samples': [0.1, 0.2, 0.5],\n",
       "                         'n_estimators': [200, 500]})"
      ]
     },
     "execution_count": 14,
     "metadata": {},
     "output_type": "execute_result"
    }
   ],
   "source": [
    "poly = PolynomialFeatures(degree = 2)\n",
    "poly_train_x = poly.fit_transform(train_x)\n",
    "poly_test_x = poly.fit_transform(test_x)\n",
    "\n",
    "poly_reg = LinearRegression()\n",
    "bag_preg = BaggingRegressor(poly_reg, bootstrap = True, random_state = 42, oob_score = True)\n",
    "bag_pgrid = GridSearchCV(bag_preg, param_grid = param_grid, cv = 5, n_jobs = -1)\n",
    "\n",
    "bag_pgrid.fit(poly_train_x, train_y)"
   ]
  },
  {
   "cell_type": "code",
   "execution_count": 15,
   "metadata": {},
   "outputs": [
    {
     "name": "stdout",
     "output_type": "stream",
     "text": [
      "Best Cross Validation Score: 0.6458\n",
      "Best Parameters: {'max_features': 0.5, 'max_samples': 0.5, 'n_estimators': 500}\n"
     ]
    }
   ],
   "source": [
    "print('Best Cross Validation Score: {:.4f}'.format(bag_grid.best_score_))\n",
    "print('Best Parameters: {}'.format(bag_grid.best_params_))"
   ]
  },
  {
   "cell_type": "code",
   "execution_count": 16,
   "metadata": {},
   "outputs": [
    {
     "data": {
      "text/plain": [
       "BaggingRegressor(base_estimator=LinearRegression(), max_features=0.5,\n",
       "                 max_samples=0.5, n_estimators=500, oob_score=True,\n",
       "                 random_state=42)"
      ]
     },
     "execution_count": 16,
     "metadata": {},
     "output_type": "execute_result"
    }
   ],
   "source": [
    "poly_reg = LinearRegression()\n",
    "bag_preg = BaggingRegressor(poly_reg, bootstrap = True, random_state = 42, oob_score = True, \n",
    "                            n_estimators = 500, max_samples = 0.5, max_features = 0.5)\n",
    "bag_preg.fit(poly_train_x, train_y)"
   ]
  },
  {
   "cell_type": "code",
   "execution_count": 17,
   "metadata": {},
   "outputs": [
    {
     "name": "stdout",
     "output_type": "stream",
     "text": [
      "Train Score: 0.8140\n",
      "Test Score: 0.7917\n"
     ]
    }
   ],
   "source": [
    "print(\"Train Score: %.4f\"% bag_preg.score(poly_train_x, train_y))\n",
    "print(\"Test Score: %.4f\"% bag_preg.score(poly_test_x, test_y))"
   ]
  },
  {
   "cell_type": "markdown",
   "metadata": {},
   "source": [
    "### Pasting"
   ]
  },
  {
   "cell_type": "markdown",
   "metadata": {},
   "source": [
    "###### Linear Regression with Pasting"
   ]
  },
  {
   "cell_type": "code",
   "execution_count": 18,
   "metadata": {},
   "outputs": [],
   "source": [
    "param_grid = {'n_estimators': [200,500], \n",
    "             'max_samples': [0.1, 0.2, 0.5],\n",
    "             'max_features': [0.1, 0.3, 0.5]}"
   ]
  },
  {
   "cell_type": "code",
   "execution_count": 19,
   "metadata": {},
   "outputs": [
    {
     "data": {
      "text/plain": [
       "GridSearchCV(cv=5,\n",
       "             estimator=BaggingRegressor(base_estimator=LinearRegression(),\n",
       "                                        bootstrap=False, random_state=42),\n",
       "             n_jobs=-1,\n",
       "             param_grid={'max_features': [0.1, 0.3, 0.5],\n",
       "                         'max_samples': [0.1, 0.2, 0.5],\n",
       "                         'n_estimators': [200, 500]})"
      ]
     },
     "execution_count": 19,
     "metadata": {},
     "output_type": "execute_result"
    }
   ],
   "source": [
    "lreg = LinearRegression()\n",
    "bag_lreg = BaggingRegressor(lreg, bootstrap = False, random_state = 42)\n",
    "bag_grid = GridSearchCV(bag_lreg, param_grid = param_grid, cv = 5, n_jobs = -1)\n",
    "bag_grid.fit(train_x, train_y)"
   ]
  },
  {
   "cell_type": "code",
   "execution_count": 20,
   "metadata": {},
   "outputs": [
    {
     "name": "stdout",
     "output_type": "stream",
     "text": [
      "Best Cross Validation Score: 0.6463\n",
      "Best Parameters: {'max_features': 0.5, 'max_samples': 0.2, 'n_estimators': 500}\n"
     ]
    }
   ],
   "source": [
    "print('Best Cross Validation Score: {:.4f}'.format(bag_grid.best_score_))\n",
    "print('Best Parameters: {}'.format(bag_grid.best_params_))"
   ]
  },
  {
   "cell_type": "code",
   "execution_count": 21,
   "metadata": {},
   "outputs": [
    {
     "name": "stdout",
     "output_type": "stream",
     "text": [
      "Train Score: 0.6448\n",
      "Test Score: 0.6429\n"
     ]
    }
   ],
   "source": [
    "lreg = LinearRegression()\n",
    "bag_lreg = BaggingRegressor(lreg, bootstrap = True, random_state = 42, oob_score = True,\n",
    "                           max_features = 0.5, max_samples = 0.2, n_estimators = 500)\n",
    "bag_lreg.fit(train_x, train_y)\n",
    "\n",
    "print('Train Score: %.4f'% bag_lreg.score(train_x, train_y))\n",
    "print('Test Score: %.4f'% bag_lreg.score(test_x, test_y))"
   ]
  },
  {
   "cell_type": "markdown",
   "metadata": {},
   "source": [
    "###### Polynomial Regression with Pasting"
   ]
  },
  {
   "cell_type": "code",
   "execution_count": 22,
   "metadata": {},
   "outputs": [],
   "source": [
    "param_grid = {'n_estimators': [200,500], \n",
    "             'max_samples': [0.1, 0.2, 0.5],\n",
    "             'max_features': [0.1, 0.3, 0.5]}"
   ]
  },
  {
   "cell_type": "code",
   "execution_count": 23,
   "metadata": {},
   "outputs": [
    {
     "data": {
      "text/plain": [
       "GridSearchCV(cv=5,\n",
       "             estimator=BaggingRegressor(base_estimator=LinearRegression(),\n",
       "                                        bootstrap=False, random_state=42),\n",
       "             n_jobs=-1,\n",
       "             param_grid={'max_features': [0.1, 0.3, 0.5],\n",
       "                         'max_samples': [0.1, 0.2, 0.5],\n",
       "                         'n_estimators': [200, 500]})"
      ]
     },
     "execution_count": 23,
     "metadata": {},
     "output_type": "execute_result"
    }
   ],
   "source": [
    "poly = PolynomialFeatures(degree = 2)\n",
    "poly_train_x = poly.fit_transform(train_x)\n",
    "poly_test_x = poly.fit_transform(test_x)\n",
    "\n",
    "poly_reg = LinearRegression()\n",
    "bag_preg = BaggingRegressor(poly_reg, bootstrap = False, random_state = 42)\n",
    "bag_pgrid = GridSearchCV(bag_preg, param_grid = param_grid, cv = 5, n_jobs = -1)\n",
    "\n",
    "bag_pgrid.fit(poly_train_x, train_y)"
   ]
  },
  {
   "cell_type": "code",
   "execution_count": 24,
   "metadata": {},
   "outputs": [
    {
     "name": "stdout",
     "output_type": "stream",
     "text": [
      "Best Cross Validation Score: 0.6463\n",
      "Best Parameters: {'max_features': 0.5, 'max_samples': 0.2, 'n_estimators': 500}\n"
     ]
    }
   ],
   "source": [
    "print('Best Cross Validation Score: {:.4f}'.format(bag_grid.best_score_))\n",
    "print('Best Parameters: {}'.format(bag_grid.best_params_))"
   ]
  },
  {
   "cell_type": "code",
   "execution_count": 25,
   "metadata": {},
   "outputs": [
    {
     "data": {
      "text/plain": [
       "BaggingRegressor(base_estimator=LinearRegression(), max_features=0.5,\n",
       "                 max_samples=0.2, n_estimators=500, oob_score=True,\n",
       "                 random_state=42)"
      ]
     },
     "execution_count": 25,
     "metadata": {},
     "output_type": "execute_result"
    }
   ],
   "source": [
    "poly_reg = LinearRegression()\n",
    "bag_preg = BaggingRegressor(poly_reg, bootstrap = True, random_state = 42, oob_score = True, \n",
    "                            n_estimators = 500, max_samples = 0.2, max_features = 0.5)\n",
    "bag_preg.fit(poly_train_x, train_y)"
   ]
  },
  {
   "cell_type": "code",
   "execution_count": 26,
   "metadata": {},
   "outputs": [
    {
     "name": "stdout",
     "output_type": "stream",
     "text": [
      "Train Score: 0.8132\n",
      "Test Score: 0.7906\n"
     ]
    }
   ],
   "source": [
    "print(\"Train Score: %.4f\"% bag_preg.score(poly_train_x, train_y))\n",
    "print(\"Test Score: %.4f\"% bag_preg.score(poly_test_x, test_y))"
   ]
  },
  {
   "cell_type": "markdown",
   "metadata": {},
   "source": [
    "### Adaboost"
   ]
  },
  {
   "cell_type": "markdown",
   "metadata": {},
   "source": [
    "###### Decision Tree Regression with Adaboost"
   ]
  },
  {
   "cell_type": "code",
   "execution_count": 27,
   "metadata": {},
   "outputs": [],
   "source": [
    "from sklearn.ensemble import AdaBoostRegressor\n",
    "from sklearn.tree import DecisionTreeRegressor"
   ]
  },
  {
   "cell_type": "code",
   "execution_count": 28,
   "metadata": {},
   "outputs": [
    {
     "data": {
      "text/plain": [
       "Text(0, 0.5, 'Score')"
      ]
     },
     "execution_count": 28,
     "metadata": {},
     "output_type": "execute_result"
    },
    {
     "data": {
      "image/png": "[encoded data removed]",
      "text/plain": [
       "<Figure size 1440x360 with 1 Axes>"
      ]
     },
     "metadata": {
      "needs_background": "light"
     },
     "output_type": "display_data"
    }
   ],
   "source": [
    "train_scores = []\n",
    "test_scores = []\n",
    "for k in range (1,20):\n",
    "    dtreg = DecisionTreeRegressor(random_state = 42, max_depth = k)\n",
    "    ada_dtreg = AdaBoostRegressor(dtreg, n_estimators = 500, random_state = 42)\n",
    "    ada_dtreg.fit(train_x, train_y)\n",
    "    train_scores.append(ada_dtreg.score(train_x, train_y))\n",
    "    test_scores.append(ada_dtreg.score(test_x, test_y))\n",
    "    \n",
    "x_axis = range(1,20)\n",
    "plt.subplots(figsize=(20,5))\n",
    "plt.plot(x_axis, train_scores, c = 'g', label = 'Train Scores')\n",
    "plt.plot(x_axis, test_scores, c = 'b', label = 'Test Scores')\n",
    "plt.legend()\n",
    "plt.xlabel('Decision Tree Regressor')\n",
    "plt.ylabel('Score')\n",
    "    "
   ]
  },
  {
   "cell_type": "code",
   "execution_count": 29,
   "metadata": {},
   "outputs": [
    {
     "name": "stdout",
     "output_type": "stream",
     "text": [
      "Best max_depth = 10\n",
      "Train Score: 0.9684\n",
      "Test Score: 0.8672\n"
     ]
    }
   ],
   "source": [
    "dtreg = DecisionTreeRegressor(random_state = 42, max_depth = 10)\n",
    "ada_dtreg= AdaBoostRegressor(dtreg, n_estimators = 500, random_state = 42)\n",
    "\n",
    "ada_dtreg.fit(train_x, train_y)\n",
    "ada_dtreg.score(train_x, train_y)\n",
    "\n",
    "print(\"Best max_depth = 10\")\n",
    "print(\"Train Score: %.4f\"% ada_dtreg.score(train_x, train_y))\n",
    "print(\"Test Score: %.4f\"% ada_dtreg.score(test_x, test_y))"
   ]
  },
  {
   "cell_type": "markdown",
   "metadata": {},
   "source": [
    "###### Polynomial Regression with Adaboost"
   ]
  },
  {
   "cell_type": "code",
   "execution_count": 30,
   "metadata": {},
   "outputs": [],
   "source": [
    "param_grid = {'n_estimators': [100,200,300,500], \n",
    "             'learning_rate': [0.1, 0.3, 0.5, 0.7]}"
   ]
  },
  {
   "cell_type": "code",
   "execution_count": 31,
   "metadata": {},
   "outputs": [
    {
     "name": "stdout",
     "output_type": "stream",
     "text": [
      "Best Cross Validation Score: 0.6893\n",
      "Best Parameters: {'learning_rate': 0.1, 'n_estimators': 100}\n"
     ]
    }
   ],
   "source": [
    "poly = PolynomialFeatures(degree = 2)\n",
    "poly_train_x = poly.fit_transform(train_x)\n",
    "poly_test_x = poly.fit_transform(test_x)\n",
    "\n",
    "poly_reg = LinearRegression()\n",
    "ada_preg= AdaBoostRegressor(poly_reg, random_state = 42)\n",
    "ada_grid = GridSearchCV(ada_preg, param_grid = param_grid, cv = 5, n_jobs = -1)\n",
    "ada_grid.fit(poly_train_x, train_y)\n",
    "\n",
    "print('Best Cross Validation Score: {:.4f}'.format(ada_grid.best_score_))\n",
    "print('Best Parameters: {}'.format(ada_grid.best_params_))"
   ]
  },
  {
   "cell_type": "code",
   "execution_count": 32,
   "metadata": {},
   "outputs": [
    {
     "name": "stdout",
     "output_type": "stream",
     "text": [
      "Train Score: 0.7236\n",
      "Test Score: 0.6754\n"
     ]
    }
   ],
   "source": [
    "ada_preg = AdaBoostRegressor(LinearRegression(), random_state = 42, learning_rate = 0.1, n_estimators = 100)\n",
    "ada_preg.fit(poly_train_x, train_y)\n",
    "\n",
    "print(\"Train Score: %.4f\"% ada_preg.score(poly_train_x, train_y))\n",
    "print(\"Test Score: %.4f\"% ada_preg.score(poly_test_x, test_y))"
   ]
  },
  {
   "cell_type": "markdown",
   "metadata": {},
   "source": [
    "### Gradient Boosting"
   ]
  },
  {
   "cell_type": "code",
   "execution_count": 33,
   "metadata": {},
   "outputs": [],
   "source": [
    "from sklearn.ensemble import GradientBoostingRegressor"
   ]
  },
  {
   "cell_type": "code",
   "execution_count": 34,
   "metadata": {},
   "outputs": [
    {
     "data": {
      "text/plain": [
       "GridSearchCV(cv=5, estimator=GradientBoostingRegressor(random_state=42),\n",
       "             n_jobs=-1,\n",
       "             param_grid={'learning_rate': [0.1, 0.3, 0.5, 0.7],\n",
       "                         'max_depth': [1, 3, 5, 7],\n",
       "                         'n_estimators': [100, 200, 300, 500]})"
      ]
     },
     "execution_count": 34,
     "metadata": {},
     "output_type": "execute_result"
    }
   ],
   "source": [
    "param_grid = {'n_estimators': [100,200,300,500], \n",
    "             'max_depth': [1, 3, 5, 7], \n",
    "             'learning_rate': [0.1, 0.3, 0.5, 0.7]}\n",
    "\n",
    "gbrt = GradientBoostingRegressor(random_state = 42)\n",
    "gbrt_grid = GridSearchCV(gbrt, param_grid = param_grid, cv = 5, n_jobs = -1)\n",
    "gbrt_grid.fit(train_x, train_y)"
   ]
  },
  {
   "cell_type": "code",
   "execution_count": 35,
   "metadata": {},
   "outputs": [
    {
     "name": "stdout",
     "output_type": "stream",
     "text": [
      "Best Cross Validation Score: 0.8982\n",
      "Best Parameters: {'learning_rate': 0.1, 'max_depth': 5, 'n_estimators': 500}\n"
     ]
    }
   ],
   "source": [
    "print('Best Cross Validation Score: {:.4f}'.format(gbrt_grid.best_score_))\n",
    "print('Best Parameters: {}'.format(gbrt_grid.best_params_))"
   ]
  },
  {
   "cell_type": "code",
   "execution_count": 36,
   "metadata": {},
   "outputs": [
    {
     "name": "stdout",
     "output_type": "stream",
     "text": [
      "Train Score: 0.9769\n",
      "Test Score: 0.8836\n"
     ]
    }
   ],
   "source": [
    "gbrt = GradientBoostingRegressor(learning_rate = 0.1, max_depth = 5, n_estimators = 500)\n",
    "gbrt.fit(train_x, train_y)\n",
    "\n",
    "print(\"Train Score: %.4f\"% gbrt.score(train_x, train_y))\n",
    "print(\"Test Score: %.4f\"% gbrt.score(test_x, test_y))"
   ]
  },
  {
   "cell_type": "markdown",
   "metadata": {},
   "source": [
    "### PCA"
   ]
  },
  {
   "cell_type": "code",
   "execution_count": 37,
   "metadata": {},
   "outputs": [],
   "source": [
    "from sklearn.decomposition import PCA"
   ]
  },
  {
   "cell_type": "code",
   "execution_count": 38,
   "metadata": {},
   "outputs": [
    {
     "data": {
      "text/plain": [
       "0.9853112280999089"
      ]
     },
     "execution_count": 38,
     "metadata": {},
     "output_type": "execute_result"
    }
   ],
   "source": [
    "pca = PCA(n_components = 0.98)\n",
    "train_x_pca = pca.fit_transform(train_x)\n",
    "test_x_pca = pca.transform(test_x)\n",
    "\n",
    "pca.explained_variance_ratio_.sum()"
   ]
  },
  {
   "cell_type": "code",
   "execution_count": 39,
   "metadata": {},
   "outputs": [
    {
     "data": {
      "text/plain": [
       "(16209, 13)"
      ]
     },
     "execution_count": 39,
     "metadata": {},
     "output_type": "execute_result"
    }
   ],
   "source": [
    "train_x_pca.shape"
   ]
  },
  {
   "cell_type": "markdown",
   "metadata": {},
   "source": [
    "##### PCA - Linear Regression"
   ]
  },
  {
   "cell_type": "code",
   "execution_count": 40,
   "metadata": {},
   "outputs": [
    {
     "data": {
      "text/plain": [
       "LinearRegression()"
      ]
     },
     "execution_count": 40,
     "metadata": {},
     "output_type": "execute_result"
    }
   ],
   "source": [
    "pca_lreg = LinearRegression()\n",
    "pca_lreg.fit(train_x_pca, train_y)"
   ]
  },
  {
   "cell_type": "code",
   "execution_count": 41,
   "metadata": {},
   "outputs": [
    {
     "name": "stdout",
     "output_type": "stream",
     "text": [
      "Train Score: 0.6383\n",
      "Test Score: 0.6437\n"
     ]
    }
   ],
   "source": [
    "print('Train Score: %.4f'% pca_lreg.score(train_x_pca, train_y))\n",
    "print('Test Score: %.4f'% pca_lreg.score(test_x_pca, test_y))"
   ]
  },
  {
   "cell_type": "markdown",
   "metadata": {},
   "source": [
    "##### PCA - Polynomial Regression"
   ]
  },
  {
   "cell_type": "code",
   "execution_count": 42,
   "metadata": {},
   "outputs": [
    {
     "data": {
      "text/plain": [
       "LinearRegression()"
      ]
     },
     "execution_count": 42,
     "metadata": {},
     "output_type": "execute_result"
    }
   ],
   "source": [
    "poly = PolynomialFeatures(degree = 2)\n",
    "\n",
    "poly_train_x_pca = poly.fit_transform(train_x_pca)\n",
    "poly_test_x_pca = poly.transform(test_x_pca)\n",
    "\n",
    "pca_poly_reg = LinearRegression()\n",
    "pca_poly_reg.fit(poly_train_x_pca, train_y)"
   ]
  },
  {
   "cell_type": "code",
   "execution_count": 43,
   "metadata": {},
   "outputs": [
    {
     "name": "stdout",
     "output_type": "stream",
     "text": [
      "Train Score: 0.7759\n",
      "Test Score: 0.7735\n"
     ]
    }
   ],
   "source": [
    "print(\"Train Score: %.4f\"% pca_poly_reg.score(poly_train_x_pca, train_y))\n",
    "print(\"Test Score: %.4f\"% pca_poly_reg.score(poly_test_x_pca, test_y))"
   ]
  },
  {
   "cell_type": "markdown",
   "metadata": {},
   "source": [
    "##### PCA - Ridge"
   ]
  },
  {
   "cell_type": "code",
   "execution_count": 44,
   "metadata": {},
   "outputs": [],
   "source": [
    "from sklearn.linear_model import Ridge"
   ]
  },
  {
   "cell_type": "code",
   "execution_count": 45,
   "metadata": {},
   "outputs": [
    {
     "name": "stdout",
     "output_type": "stream",
     "text": [
      "Train Scores:  [0.6382501944123002, 0.6382501435036332, 0.6382451150920279, 0.6377975457657767, 0.6171069544549105] \n",
      " Test Score:  [0.6437294915897294, 0.643717980778145, 0.6435993004481801, 0.6421016034425084, 0.6154294481846094]\n"
     ]
    }
   ],
   "source": [
    "train_score_list = []\n",
    "test_score_list = []\n",
    "\n",
    "x_range = [0.01, 0.1, 1, 10, 100]\n",
    "\n",
    "for alpha in x_range:\n",
    "    ridge = Ridge(alpha)\n",
    "    ridge.fit(train_x_pca, train_y)\n",
    "    train_score_list.append(ridge.score(train_x_pca, train_y))\n",
    "    test_score_list.append(ridge.score(test_x_pca, test_y))\n",
    "    \n",
    "print(\"Train Scores: \",train_score_list, '\\n',\n",
    "      \"Test Score: \", test_score_list)"
   ]
  },
  {
   "cell_type": "code",
   "execution_count": 46,
   "metadata": {},
   "outputs": [
    {
     "data": {
      "image/png": "[encoded data removed]",
      "text/plain": [
       "<Figure size 1440x360 with 1 Axes>"
      ]
     },
     "metadata": {
      "needs_background": "light"
     },
     "output_type": "display_data"
    }
   ],
   "source": [
    "%matplotlib inline\n",
    "\n",
    "plt.subplots(figsize = (20,5))\n",
    "plt.plot(x_range, train_score_list, c = 'g', label = 'Train Score')\n",
    "plt.plot(x_range, test_score_list, c = 'b', label = 'Test Score')\n",
    "plt.xscale('log')\n",
    "plt.legend()\n",
    "plt.xlabel('Alpha')\n",
    "plt.grid()"
   ]
  },
  {
   "cell_type": "code",
   "execution_count": 47,
   "metadata": {},
   "outputs": [
    {
     "name": "stdout",
     "output_type": "stream",
     "text": [
      "Train score: 0.6383\n",
      "Test Score: 0.6437\n"
     ]
    }
   ],
   "source": [
    "ridge = Ridge(alpha = 0.01)\n",
    "ridge.fit(train_x_pca, train_y)\n",
    "print('Train score: {:.4f}'.format(ridge.score(train_x_pca, train_y)))\n",
    "print('Test Score: {:.4f}'.format(ridge.score(test_x_pca, test_y)))"
   ]
  },
  {
   "cell_type": "markdown",
   "metadata": {},
   "source": [
    "##### PCA - Lasso"
   ]
  },
  {
   "cell_type": "code",
   "execution_count": 48,
   "metadata": {},
   "outputs": [
    {
     "name": "stdout",
     "output_type": "stream",
     "text": [
      "Train Scores:  [0.6382501949266903, 0.638250194879304, 0.6382501901406692, 0.6382497162771914, 0.6382023299294103] \n",
      " Test Score:  [0.6437307250976576, 0.6437303524318909, 0.6437266217537911, 0.6436889129295384, 0.643271620361493]\n"
     ]
    }
   ],
   "source": [
    "from sklearn.linear_model import Lasso\n",
    "\n",
    "train_score_list = []\n",
    "test_score_list = []\n",
    "\n",
    "x_range = [0.01, 0.1, 1, 10, 100]\n",
    "\n",
    "for alpha in x_range:\n",
    "    lasso = Lasso(alpha)\n",
    "    lasso.fit(train_x_pca, train_y)\n",
    "    train_score_list.append(lasso.score(train_x_pca, train_y))\n",
    "    test_score_list.append(lasso.score(test_x_pca, test_y))\n",
    "    \n",
    "print(\"Train Scores: \",train_score_list, '\\n',\n",
    "      \"Test Score: \", test_score_list)\n",
    "\n",
    "#alpha = 0.01 gave the best train and test score"
   ]
  },
  {
   "cell_type": "code",
   "execution_count": 49,
   "metadata": {},
   "outputs": [
    {
     "data": {
      "image/png": "[encoded data removed]",
      "text/plain": [
       "<Figure size 1440x360 with 1 Axes>"
      ]
     },
     "metadata": {
      "needs_background": "light"
     },
     "output_type": "display_data"
    }
   ],
   "source": [
    "%matplotlib inline\n",
    "\n",
    "plt.figure(figsize = (20,5))\n",
    "plt.plot(x_range, train_score_list, c = 'g', label = 'Train Score')\n",
    "plt.plot(x_range, test_score_list, c = 'b', label = 'Test Score')\n",
    "plt.xscale('log')\n",
    "plt.legend()\n",
    "plt.xlabel('Alpha')\n",
    "plt.grid()"
   ]
  },
  {
   "cell_type": "code",
   "execution_count": 50,
   "metadata": {},
   "outputs": [
    {
     "name": "stdout",
     "output_type": "stream",
     "text": [
      "Train score: 0.6383\n",
      "Test Score: 0.6437\n"
     ]
    }
   ],
   "source": [
    "lasso = Lasso(alpha = 0.01)\n",
    "lasso.fit(train_x_pca, train_y)\n",
    "print('Train score: {:.4f}'.format(ridge.score(train_x_pca, train_y)))\n",
    "print('Test Score: {:.4f}'.format(ridge.score(test_x_pca, test_y)))"
   ]
  },
  {
   "cell_type": "markdown",
   "metadata": {},
   "source": [
    "##### PCA - LinearSVR"
   ]
  },
  {
   "cell_type": "code",
   "execution_count": 51,
   "metadata": {},
   "outputs": [],
   "source": [
    "from sklearn.svm import LinearSVR"
   ]
  },
  {
   "cell_type": "code",
   "execution_count": 52,
   "metadata": {},
   "outputs": [
    {
     "name": "stderr",
     "output_type": "stream",
     "text": [
      "C:\\Users\\garyz\\anaconda3\\lib\\site-packages\\sklearn\\svm\\_base.py:977: ConvergenceWarning: Liblinear failed to converge, increase the number of iterations.\n",
      "  \"the number of iterations.\", ConvergenceWarning)\n"
     ]
    },
    {
     "name": "stdout",
     "output_type": "stream",
     "text": [
      "Train Scores:  [-2.093151112428946, -1.1042825445286395, 0.028420318491161112, 0.4771708568453302, 0.5778176280970876, 0.589665394061764, 0.5900587796858787, 0.5882736579397252]\n",
      "\n",
      "\n",
      "Test Scores:  [-1.890117180779587, -1.0118941330694788, 0.020621166666099255, 0.46315539324909494, 0.5694673347831112, 0.5826986960354524, 0.5832289881496269, 0.5814047237488124]\n"
     ]
    },
    {
     "name": "stderr",
     "output_type": "stream",
     "text": [
      "C:\\Users\\garyz\\anaconda3\\lib\\site-packages\\sklearn\\svm\\_base.py:977: ConvergenceWarning: Liblinear failed to converge, increase the number of iterations.\n",
      "  \"the number of iterations.\", ConvergenceWarning)\n"
     ]
    }
   ],
   "source": [
    "from sklearn.svm import LinearSVR\n",
    "train_score_list = []\n",
    "test_score_list = []\n",
    "x_range = [1, 10, 100, 1000, 10000,100000, 1000000, 10000000]\n",
    "\n",
    "for i in x_range:\n",
    "    regr = LinearSVR(C = i, random_state = 42)\n",
    "    regr.fit(train_x_pca, train_y)\n",
    "    train_score_list.append(regr.score(train_x_pca, train_y))\n",
    "    test_score_list.append(regr.score(test_x_pca, test_y))\n",
    "\n",
    "print(\"Train Scores: \", train_score_list)\n",
    "print('\\n')\n",
    "print(\"Test Scores: \", test_score_list)"
   ]
  },
  {
   "cell_type": "code",
   "execution_count": 53,
   "metadata": {},
   "outputs": [
    {
     "data": {
      "text/plain": [
       "<matplotlib.legend.Legend at 0x174ce55c188>"
      ]
     },
     "execution_count": 53,
     "metadata": {},
     "output_type": "execute_result"
    },
    {
     "data": {
      "image/png": "[encoded data removed]",
      "text/plain": [
       "<Figure size 720x360 with 1 Axes>"
      ]
     },
     "metadata": {
      "needs_background": "light"
     },
     "output_type": "display_data"
    }
   ],
   "source": [
    "plt.figure(figsize = (10,5))\n",
    "plt.plot(x_range[4:], train_score_list[4:], color = 'blue', label = 'Train')\n",
    "plt.plot(x_range[4:], test_score_list[4:], color = 'green', label = 'Test')\n",
    "plt.xscale('log')\n",
    "plt.legend()"
   ]
  },
  {
   "cell_type": "code",
   "execution_count": 54,
   "metadata": {},
   "outputs": [
    {
     "name": "stdout",
     "output_type": "stream",
     "text": [
      "Train score: 0.5901\n",
      "Test score: 0.5832\n"
     ]
    },
    {
     "name": "stderr",
     "output_type": "stream",
     "text": [
      "C:\\Users\\garyz\\anaconda3\\lib\\site-packages\\sklearn\\svm\\_base.py:977: ConvergenceWarning: Liblinear failed to converge, increase the number of iterations.\n",
      "  \"the number of iterations.\", ConvergenceWarning)\n"
     ]
    }
   ],
   "source": [
    "regr = LinearSVR(C = 1000000, random_state = 42)\n",
    "regr.fit(train_x_pca, train_y)\n",
    "print('Train score: {:.4f}'.format(regr.score(train_x_pca, train_y)))\n",
    "print('Test score: {:.4f}'.format(regr.score(test_x_pca, test_y)))"
   ]
  },
  {
   "cell_type": "markdown",
   "metadata": {},
   "source": [
    "##### PCA - SVR rbf"
   ]
  },
  {
   "cell_type": "code",
   "execution_count": 55,
   "metadata": {},
   "outputs": [],
   "source": [
    "from sklearn.svm import SVR"
   ]
  },
  {
   "cell_type": "code",
   "execution_count": 56,
   "metadata": {},
   "outputs": [
    {
     "name": "stderr",
     "output_type": "stream",
     "text": [
      "C:\\Users\\garyz\\anaconda3\\lib\\site-packages\\joblib\\externals\\loky\\process_executor.py:706: UserWarning: A worker stopped while some jobs were given to the executor. This can be caused by a too short worker timeout or by a memory leak.\n",
      "  \"timeout or by a memory leak.\", UserWarning\n"
     ]
    },
    {
     "name": "stdout",
     "output_type": "stream",
     "text": [
      "Best Cross Validation Score: 0.7539\n",
      "Best Parameters: {'C': 1000000, 'gamma': 1}\n"
     ]
    }
   ],
   "source": [
    "param_grid = {'C': [10, 100, 1000, 10000, 1000000], \n",
    "             'gamma': [0.01, 0.1, 1, 10, 100]}\n",
    "\n",
    "grid_search = GridSearchCV(SVR(kernel = 'rbf'), param_grid = param_grid, cv = 3, n_jobs = -1)\n",
    "grid_search.fit(train_x_pca, train_y)\n",
    "\n",
    "print('Best Cross Validation Score: {:.4f}'.format(grid_search.best_score_))\n",
    "print('Best Parameters: {}'.format(grid_search.best_params_))"
   ]
  },
  {
   "cell_type": "code",
   "execution_count": 57,
   "metadata": {},
   "outputs": [
    {
     "name": "stdout",
     "output_type": "stream",
     "text": [
      "Train score: 0.7978\n",
      "Test score: 0.7714\n"
     ]
    }
   ],
   "source": [
    "rbf_regr = SVR(C= 1000000, gamma=1, kernel = 'rbf')\n",
    "rbf_regr.fit(train_x_pca, train_y)\n",
    "print('Train score: {:.4f}'.format(rbf_regr.score(train_x_pca, train_y)))\n",
    "print('Test score: {:.4f}'.format(rbf_regr.score(test_x_pca, test_y)))"
   ]
  },
  {
   "cell_type": "markdown",
   "metadata": {},
   "source": [
    "##### PCA - SVR Linear"
   ]
  },
  {
   "cell_type": "code",
   "execution_count": 58,
   "metadata": {},
   "outputs": [
    {
     "name": "stderr",
     "output_type": "stream",
     "text": [
      "C:\\Users\\garyz\\anaconda3\\lib\\site-packages\\joblib\\externals\\loky\\process_executor.py:706: UserWarning: A worker stopped while some jobs were given to the executor. This can be caused by a too short worker timeout or by a memory leak.\n",
      "  \"timeout or by a memory leak.\", UserWarning\n"
     ]
    },
    {
     "name": "stdout",
     "output_type": "stream",
     "text": [
      "Best Cross Validation Score: 0.5936\n",
      "Best Parameters: {'C': 1000000, 'gamma': 0.01}\n"
     ]
    }
   ],
   "source": [
    "param_grid = {'C': [10, 100, 1000, 10000, 1000000], \n",
    "             'gamma': [0.01, 0.1, 1, 10, 100]}\n",
    "\n",
    "grid_search = GridSearchCV(SVR(kernel = 'linear'), param_grid = param_grid, cv = 3, n_jobs = -1)\n",
    "grid_search.fit(train_x_pca, train_y)\n",
    "\n",
    "print('Best Cross Validation Score: {:.4f}'.format(grid_search.best_score_))\n",
    "print('Best Parameters: {}'.format(grid_search.best_params_))"
   ]
  },
  {
   "cell_type": "code",
   "execution_count": 59,
   "metadata": {},
   "outputs": [
    {
     "name": "stdout",
     "output_type": "stream",
     "text": [
      "Train score: 0.5904\n",
      "Test score: 0.5835\n"
     ]
    }
   ],
   "source": [
    "regr = SVR(C=1000000, gamma = 0.01, kernel ='linear')\n",
    "regr.fit(train_x_pca, train_y)\n",
    "print('Train score: {:.4f}'.format(regr.score(train_x_pca, train_y)))\n",
    "print('Test score: {:.4f}'.format(regr.score(test_x_pca, test_y)))"
   ]
  },
  {
   "cell_type": "markdown",
   "metadata": {},
   "source": [
    "##### PCA - SVR Polynomial"
   ]
  },
  {
   "cell_type": "code",
   "execution_count": 60,
   "metadata": {},
   "outputs": [
    {
     "name": "stdout",
     "output_type": "stream",
     "text": [
      "Train score: 0.4870\n",
      "Test score: 0.5055\n"
     ]
    }
   ],
   "source": [
    "regr = SVR(C = 1000000, gamma = 1, kernel = 'poly', degree = 2)\n",
    "regr.fit(train_x_pca, train_y)\n",
    "print('Train score: {:.4f}'.format(regr.score(train_x_pca, train_y)))\n",
    "print('Test score: {:.4f}'.format(regr.score(test_x_pca, test_y)))"
   ]
  },
  {
   "cell_type": "markdown",
   "metadata": {},
   "source": [
    "##### PCA - KNN Regression"
   ]
  },
  {
   "cell_type": "code",
   "execution_count": 61,
   "metadata": {},
   "outputs": [],
   "source": [
    "from sklearn.neighbors import KNeighborsRegressor"
   ]
  },
  {
   "cell_type": "code",
   "execution_count": 62,
   "metadata": {},
   "outputs": [
    {
     "name": "stdout",
     "output_type": "stream",
     "text": [
      "[0.9999998930659681, 0.8996332907289654, 0.8515045352601978, 0.8260225321161554, 0.804836899302562, 0.788992430880952, 0.7751229587849342, 0.7650134674321374, 0.7550640646111865, 0.7467217550117191, 0.7397192846451275, 0.7330620382504305, 0.7281109407283972, 0.7222778041836886, 0.7171095585745264, 0.712420041144997, 0.7063510007050195, 0.7015732024003201, 0.6972251228289135] \n",
      " [0.6117297896932699, 0.6632027692065399, 0.6757481422938127, 0.6876356175857326, 0.6885378894175067, 0.6936714039949479, 0.6916267554586912, 0.6859545829831166, 0.6798676511333996, 0.6774796180020242, 0.6790412458413696, 0.6773380782482606, 0.673477070294753, 0.670117360943987, 0.6650618001206872, 0.6619955556388908, 0.6585401230598682, 0.6542393377265046, 0.652196735153673]\n"
     ]
    }
   ],
   "source": [
    "%matplotlib inline\n",
    "train_score_array = []\n",
    "test_score_array = []\n",
    "\n",
    "for k in range(1,20):\n",
    "    knn_reg = KNeighborsRegressor(k)\n",
    "    knn_reg.fit(train_x_pca, train_y)\n",
    "    train_score_array.append(knn_reg.score(train_x_pca, train_y))\n",
    "    test_score_array.append(knn_reg.score(test_x_pca, test_y))\n",
    "    \n",
    "print(train_score_array, '\\n', test_score_array)"
   ]
  },
  {
   "cell_type": "code",
   "execution_count": 63,
   "metadata": {},
   "outputs": [
    {
     "data": {
      "text/plain": [
       "Text(0, 0.5, 'Score')"
      ]
     },
     "execution_count": 63,
     "metadata": {},
     "output_type": "execute_result"
    },
    {
     "data": {
      "image/png": "[encoded data removed]",
      "text/plain": [
       "<Figure size 1440x360 with 1 Axes>"
      ]
     },
     "metadata": {
      "needs_background": "light"
     },
     "output_type": "display_data"
    }
   ],
   "source": [
    "x_axis = range(1,20)\n",
    "plt.subplots(figsize = (20,5))\n",
    "plt.plot(x_axis, train_score_array, c = 'g', label = 'Train Score')\n",
    "plt.plot(x_axis, test_score_array, c = 'b', label = 'Test Score')\n",
    "plt.legend()\n",
    "plt.xlabel('n_neighbors')\n",
    "plt.ylabel('Score')"
   ]
  },
  {
   "cell_type": "code",
   "execution_count": 64,
   "metadata": {},
   "outputs": [
    {
     "name": "stdout",
     "output_type": "stream",
     "text": [
      "Best n_neighbors value is 6\n",
      "Train score: 0.7890\n",
      "Test score: 0.6937\n"
     ]
    }
   ],
   "source": [
    "knn_reg = KNeighborsRegressor(6)\n",
    "knn_reg.fit(train_x_pca, train_y)\n",
    "print('Best n_neighbors value is 6')\n",
    "print('Train score: {:.4f}'.format(knn_reg.score(train_x_pca, train_y)))\n",
    "print('Test score: {:.4f}'.format(knn_reg.score(test_x_pca, test_y)))"
   ]
  },
  {
   "cell_type": "markdown",
   "metadata": {},
   "source": [
    "##### PCA - Decision Tree Regression"
   ]
  },
  {
   "cell_type": "code",
   "execution_count": 65,
   "metadata": {},
   "outputs": [],
   "source": [
    "from sklearn.tree import DecisionTreeRegressor"
   ]
  },
  {
   "cell_type": "code",
   "execution_count": 66,
   "metadata": {},
   "outputs": [
    {
     "name": "stdout",
     "output_type": "stream",
     "text": [
      "[0.9999999463405028, 0.9674443504589989, 0.9399950077925211, 0.9114624224716474, 0.8883566417830383, 0.8740966060284412, 0.8544724667204592, 0.8443972985153866, 0.8316684065054611, 0.8210671322056994, 0.8068287252082553, 0.7973930033279295, 0.79198843099696, 0.7864810123977426, 0.7786679805201978, 0.7747969495306691, 0.7711052826859603, 0.7624769915222546, 0.7602303847463923] \n",
      " [0.6378038838075033, 0.6428454879445951, 0.6615094108427091, 0.6512275325519726, 0.6351789787124282, 0.6404608826507019, 0.6332310941879641, 0.6330623744387949, 0.6467896310412484, 0.645458036011906, 0.6553424311488996, 0.6639523831878847, 0.6653278700947832, 0.6617750370388413, 0.665124257585685, 0.6638127345834519, 0.6588175176492391, 0.6473341843525369, 0.6456584916622712]\n"
     ]
    }
   ],
   "source": [
    "%matplotlib inline\n",
    "train_score_array = []\n",
    "test_score_array = []\n",
    "\n",
    "for k in range(1, 20): \n",
    "    regr = DecisionTreeRegressor(random_state = 42, min_samples_leaf = k)\n",
    "    regr.fit(train_x_pca, train_y)\n",
    "    train_score_array.append(regr.score(train_x_pca, train_y))\n",
    "    test_score_array.append(regr.score(test_x_pca, test_y))\n",
    "    \n",
    "print(train_score_array, '\\n', test_score_array)"
   ]
  },
  {
   "cell_type": "code",
   "execution_count": 67,
   "metadata": {
    "scrolled": true
   },
   "outputs": [
    {
     "data": {
      "text/plain": [
       "Text(0, 0.5, 'Score')"
      ]
     },
     "execution_count": 67,
     "metadata": {},
     "output_type": "execute_result"
    },
    {
     "data": {
      "image/png": "[encoded data removed]",
      "text/plain": [
       "<Figure size 1440x360 with 1 Axes>"
      ]
     },
     "metadata": {
      "needs_background": "light"
     },
     "output_type": "display_data"
    }
   ],
   "source": [
    "x_axis = range(1,20)\n",
    "plt.subplots(figsize = (20,5))\n",
    "plt.plot(x_axis, train_score_array, c = 'g', label = 'Train Score')\n",
    "plt.plot(x_axis, test_score_array, c = 'b', label = 'Test Score')\n",
    "plt.legend()\n",
    "plt.xlabel('Decision Tree Regressor')\n",
    "plt.ylabel('Score')"
   ]
  },
  {
   "cell_type": "code",
   "execution_count": 68,
   "metadata": {
    "scrolled": true
   },
   "outputs": [
    {
     "name": "stdout",
     "output_type": "stream",
     "text": [
      "Best min_samples_leaf = 13\n",
      "Train score:  0.792\n",
      "Test score:  0.6653\n"
     ]
    }
   ],
   "source": [
    "regr = DecisionTreeRegressor(random_state = 42, min_samples_leaf = 13)\n",
    "regr.fit(train_x_pca, train_y)\n",
    "\n",
    "print('Best min_samples_leaf = 13')\n",
    "print('Train score: ',round(regr.score(train_x_pca, train_y),4))\n",
    "print('Test score: ',round(regr.score(test_x_pca, test_y),4))"
   ]
  },
  {
   "cell_type": "markdown",
   "metadata": {},
   "source": [
    "PCA sped up the models, but overall, due to the feature reductions, the accuracy of the models were reduced. Comparing all models after PCA, we see that similar as in Project 1, the best model was SVM with rbf kernel"
   ]
  },
  {
   "cell_type": "markdown",
   "metadata": {},
   "source": [
    "###### Deep Learning Models"
   ]
  },
  {
   "cell_type": "code",
   "execution_count": 69,
   "metadata": {},
   "outputs": [],
   "source": [
    "import tensorflow as tf\n",
    "from keras import Sequential\n",
    "from keras.layers import Dense"
   ]
  },
  {
   "cell_type": "code",
   "execution_count": 70,
   "metadata": {},
   "outputs": [],
   "source": [
    "modelr = Sequential()\n",
    "#Input Layer\n",
    "modelr.add(Dense(19, input_dim = train_x.shape[1], \n",
    "                 activation = 'relu', \n",
    "                 name = 'input_layer'))\n",
    "#Hidden Layer\n",
    "modelr.add(Dense(19, activation = 'relu', name = 'hidden_layer1'))\n",
    "modelr.add(Dense(19, activation = 'relu', name = 'hidden_layer2'))\n",
    "#Output Layer\n",
    "modelr.add(Dense(1, name = 'output_layer'))"
   ]
  },
  {
   "cell_type": "code",
   "execution_count": 71,
   "metadata": {},
   "outputs": [
    {
     "name": "stdout",
     "output_type": "stream",
     "text": [
      "Model: \"sequential\"\n",
      "_________________________________________________________________\n",
      "Layer (type)                 Output Shape              Param #   \n",
      "=================================================================\n",
      "input_layer (Dense)          (None, 19)                380       \n",
      "_________________________________________________________________\n",
      "hidden_layer1 (Dense)        (None, 19)                380       \n",
      "_________________________________________________________________\n",
      "hidden_layer2 (Dense)        (None, 19)                380       \n",
      "_________________________________________________________________\n",
      "output_layer (Dense)         (None, 1)                 20        \n",
      "=================================================================\n",
      "Total params: 1,160\n",
      "Trainable params: 1,160\n",
      "Non-trainable params: 0\n",
      "_________________________________________________________________\n"
     ]
    }
   ],
   "source": [
    "modelr.compile(loss = 'mse', optimizer = 'adam')\n",
    "modelr.summary()"
   ]
  },
  {
   "cell_type": "code",
   "execution_count": 83,
   "metadata": {},
   "outputs": [
    {
     "data": {
      "text/plain": [
       "<tensorflow.python.keras.callbacks.History at 0x174ec7ffe08>"
      ]
     },
     "execution_count": 83,
     "metadata": {},
     "output_type": "execute_result"
    }
   ],
   "source": [
    "modelr.fit(train_x, train_y, epochs = 500, batch_size = 64, verbose = 0)"
   ]
  },
  {
   "cell_type": "markdown",
   "metadata": {},
   "source": [
    "###### Visual Comparison between SVM-rbf and ANN predictions"
   ]
  },
  {
   "cell_type": "code",
   "execution_count": 73,
   "metadata": {},
   "outputs": [
    {
     "name": "stdout",
     "output_type": "stream",
     "text": [
      "WARNING:tensorflow:AutoGraph could not transform <function Model.make_test_function.<locals>.test_function at 0x00000174EC33DB88> and will run it as-is.\n",
      "Please report this to the TensorFlow team. When filing the bug, set the verbosity to 10 (on Linux, `export AUTOGRAPH_VERBOSITY=10`) and attach the full output.\n",
      "Cause: 'arguments' object has no attribute 'posonlyargs'\n",
      "To silence this warning, decorate the function with @tf.autograph.experimental.do_not_convert\n",
      "WARNING: AutoGraph could not transform <function Model.make_test_function.<locals>.test_function at 0x00000174EC33DB88> and will run it as-is.\n",
      "Please report this to the TensorFlow team. When filing the bug, set the verbosity to 10 (on Linux, `export AUTOGRAPH_VERBOSITY=10`) and attach the full output.\n",
      "Cause: 'arguments' object has no attribute 'posonlyargs'\n",
      "To silence this warning, decorate the function with @tf.autograph.experimental.do_not_convert\n",
      "Train MSE:  25514229760.0\n",
      "Test MSE:  30122072064.0\n"
     ]
    }
   ],
   "source": [
    "print('Train MSE: ',round(modelr.evaluate(train_x, train_y, verbose = 0),4))\n",
    "print('Test MSE: ',round(modelr.evaluate(test_x, test_y, verbose = 0),4))"
   ]
  },
  {
   "cell_type": "code",
   "execution_count": 74,
   "metadata": {},
   "outputs": [],
   "source": [
    "from sklearn.metrics import r2_score, mean_squared_error, mean_absolute_error, explained_variance_score"
   ]
  },
  {
   "cell_type": "code",
   "execution_count": 75,
   "metadata": {},
   "outputs": [
    {
     "name": "stdout",
     "output_type": "stream",
     "text": [
      "WARNING:tensorflow:AutoGraph could not transform <function Model.make_predict_function.<locals>.predict_function at 0x00000174EC33D558> and will run it as-is.\n",
      "Please report this to the TensorFlow team. When filing the bug, set the verbosity to 10 (on Linux, `export AUTOGRAPH_VERBOSITY=10`) and attach the full output.\n",
      "Cause: 'arguments' object has no attribute 'posonlyargs'\n",
      "To silence this warning, decorate the function with @tf.autograph.experimental.do_not_convert\n",
      "WARNING: AutoGraph could not transform <function Model.make_predict_function.<locals>.predict_function at 0x00000174EC33D558> and will run it as-is.\n",
      "Please report this to the TensorFlow team. When filing the bug, set the verbosity to 10 (on Linux, `export AUTOGRAPH_VERBOSITY=10`) and attach the full output.\n",
      "Cause: 'arguments' object has no attribute 'posonlyargs'\n",
      "To silence this warning, decorate the function with @tf.autograph.experimental.do_not_convert\n",
      "ANN Train R-Square Score:  0.8035\n",
      "ANN Test R-Square Score:  1.0 4\n"
     ]
    }
   ],
   "source": [
    "print('ANN Train R-Square Score: ',round(r2_score(train_y, modelr.predict(train_x)),4))\n",
    "print('ANN Test R-Square Score: ',round(r2_score(test_y, modelr.predict(test_x))),4)"
   ]
  },
  {
   "cell_type": "markdown",
   "metadata": {},
   "source": [
    "### Model Comparison: ANN vs Decision Tree Regression with Adaboost"
   ]
  },
  {
   "cell_type": "markdown",
   "metadata": {},
   "source": [
    "Since best model based on R2 score was the Decision Tree Regression with Adaboost. We will compare it with ANN to determine the best model."
   ]
  },
  {
   "cell_type": "markdown",
   "metadata": {},
   "source": [
    "###### MSE and Explained Variance Score comparisons"
   ]
  },
  {
   "cell_type": "code",
   "execution_count": 76,
   "metadata": {},
   "outputs": [
    {
     "data": {
      "text/plain": [
       "<matplotlib.legend.Legend at 0x174ec4b7fc8>"
      ]
     },
     "execution_count": 76,
     "metadata": {},
     "output_type": "execute_result"
    },
    {
     "data": {
      "image/png": "[encoded data removed]",
      "text/plain": [
       "<Figure size 1440x720 with 1 Axes>"
      ]
     },
     "metadata": {
      "needs_background": "light"
     },
     "output_type": "display_data"
    }
   ],
   "source": [
    "plt.figure(figsize = (20,10))\n",
    "plt.scatter(test_y, modelr.predict(test_x), marker = '.', label = 'ANN Predicted House Price')\n",
    "plt.scatter(test_y, test_y, color = 'red', marker = '.', label = 'Actual House Price')\n",
    "plt.scatter(test_y, ada_dtreg.predict(test_x), color = 'green', marker = '.', label = 'SVM RBF Predicted house price')\n",
    "plt.xlabel('True Price')\n",
    "plt.ylabel('Model Predictions')\n",
    "plt.legend()"
   ]
  },
  {
   "cell_type": "code",
   "execution_count": 77,
   "metadata": {},
   "outputs": [
    {
     "name": "stdout",
     "output_type": "stream",
     "text": [
      "Train MSE for Decision Tree model with Adaboost:  4100640099.725\n",
      "Test MSE for Decision Tree model with Adaboost:  19870006194.6959\n",
      "Train Explained Variance Score for Decision Tree model with Adaboost:  0.9702\n",
      "Test Explained Variance Score for Decision Tree model with Adaboost:  0.8677\n"
     ]
    }
   ],
   "source": [
    "adadt_MSE_train = round(mean_squared_error(train_y, ada_dtreg.predict(train_x)),4)\n",
    "adadt_MSE_test = round(mean_squared_error(test_y, ada_dtreg.predict(test_x)),4)\n",
    "adadt_exp_train = round(explained_variance_score(train_y, ada_dtreg.predict(train_x)),4)\n",
    "adadt_exp_test = round(explained_variance_score(test_y, ada_dtreg.predict(test_x)),4)\n",
    "\n",
    "print('Train MSE for Decision Tree model with Adaboost: ', adadt_MSE_train)\n",
    "print('Test MSE for Decision Tree model with Adaboost: ', adadt_MSE_test)\n",
    "print('Train Explained Variance Score for Decision Tree model with Adaboost: ', adadt_exp_train)\n",
    "print('Test Explained Variance Score for Decision Tree model with Adaboost: ', adadt_exp_test)"
   ]
  },
  {
   "cell_type": "code",
   "execution_count": 78,
   "metadata": {},
   "outputs": [
    {
     "name": "stdout",
     "output_type": "stream",
     "text": [
      "Train MSE for ANN model:  25514229760.0\n",
      "Test MSE for ANN model:  30122072064.0\n",
      "Train Explained Variance Score for ANN model:  0.8038\n",
      "Test Explained Variance Score for ANN model:  0.7992\n"
     ]
    }
   ],
   "source": [
    "ann_MSE_train = round(modelr.evaluate(train_x, train_y, verbose = 0),4)\n",
    "ann_MSE_test = round(modelr.evaluate(test_x, test_y, verbose = 0),4)\n",
    "ann_exp_train = round(explained_variance_score(train_y, modelr.predict(train_x)),4)\n",
    "ann_exp_test = round(explained_variance_score(test_y, modelr.predict(test_x)),4)\n",
    "\n",
    "print('Train MSE for ANN model: ', ann_MSE_train)\n",
    "print('Test MSE for ANN model: ', ann_MSE_test)\n",
    "print('Train Explained Variance Score for ANN model: ', ann_exp_train)\n",
    "print('Test Explained Variance Score for ANN model: ', ann_exp_test)"
   ]
  },
  {
   "cell_type": "markdown",
   "metadata": {},
   "source": [
    "# Final Model - Decision Tree with Adaboost"
   ]
  },
  {
   "cell_type": "markdown",
   "metadata": {},
   "source": [
    "Based on the MSE and explained variance scores, we can see that Decision Tree model with Adaboost generated the best model in each metric."
   ]
  },
  {
   "cell_type": "code",
   "execution_count": 79,
   "metadata": {},
   "outputs": [
    {
     "name": "stdout",
     "output_type": "stream",
     "text": [
      "Best max_depth = 10\n",
      "Train Score: 0.9684\n",
      "Test Score: 0.8672\n"
     ]
    }
   ],
   "source": [
    "dtreg = DecisionTreeRegressor(random_state = 42, max_depth = 10)\n",
    "ada_dtreg= AdaBoostRegressor(dtreg, n_estimators = 500, random_state = 42)\n",
    "\n",
    "ada_dtreg.fit(train_x, train_y)\n",
    "ada_dtreg.score(train_x, train_y)\n",
    "\n",
    "print(\"Best max_depth = 10\")\n",
    "print(\"Train Score: %.4f\"% ada_dtreg.score(train_x, train_y))\n",
    "print(\"Test Score: %.4f\"% ada_dtreg.score(test_x, test_y))"
   ]
  },
  {
   "cell_type": "markdown",
   "metadata": {},
   "source": [
    "###### Plot actual price versus predicted price"
   ]
  },
  {
   "cell_type": "code",
   "execution_count": 80,
   "metadata": {},
   "outputs": [
    {
     "name": "stdout",
     "output_type": "stream",
     "text": [
      "Train MSE for Decision Tree model with Adaboost:  4100640099.725\n",
      "Test MSE for Decision Tree model with Adaboost:  19870006194.6959\n",
      "Train Explained Variance Score for Decision Tree model with Adaboost:  0.9702\n",
      "Test Explained Variance Score for Decision Tree model with Adaboost:  0.8677\n"
     ]
    }
   ],
   "source": [
    "adadt_MSE_train = round(mean_squared_error(train_y, ada_dtreg.predict(train_x)),4)\n",
    "adadt_MSE_test = round(mean_squared_error(test_y, ada_dtreg.predict(test_x)),4)\n",
    "adadt_exp_train = round(explained_variance_score(train_y, ada_dtreg.predict(train_x)),4)\n",
    "adadt_exp_test = round(explained_variance_score(test_y, ada_dtreg.predict(test_x)),4)\n",
    "\n",
    "print('Train MSE for Decision Tree model with Adaboost: ', adadt_MSE_train)\n",
    "print('Test MSE for Decision Tree model with Adaboost: ', adadt_MSE_test)\n",
    "print('Train Explained Variance Score for Decision Tree model with Adaboost: ', adadt_exp_train)\n",
    "print('Test Explained Variance Score for Decision Tree model with Adaboost: ', adadt_exp_test)"
   ]
  },
  {
   "cell_type": "code",
   "execution_count": 81,
   "metadata": {},
   "outputs": [
    {
     "data": {
      "text/plain": [
       "<matplotlib.legend.Legend at 0x174ec585d08>"
      ]
     },
     "execution_count": 81,
     "metadata": {},
     "output_type": "execute_result"
    },
    {
     "data": {
      "image/png": "[encoded data removed]",
      "text/plain": [
       "<Figure size 1440x720 with 1 Axes>"
      ]
     },
     "metadata": {
      "needs_background": "light"
     },
     "output_type": "display_data"
    }
   ],
   "source": [
    "plt.figure(figsize = (20,10))\n",
    "plt.scatter(test_y, test_y, marker = '.', label = 'Actual House Price')\n",
    "plt.scatter(test_y, ada_dtreg.predict(test_x), color = 'red', marker = '.', label = 'Decision Tree Regression with Adaboost')\n",
    "plt.xlabel('True Price')\n",
    "plt.ylabel('Model Predictions')\n",
    "plt.title('Actual versus Predicted Home Prices')\n",
    "plt.legend()"
   ]
  }
 ],
 "metadata": {
  "kernelspec": {
   "display_name": "Python 3",
   "language": "python",
   "name": "python3"
  },
  "language_info": {
   "codemirror_mode": {
    "name": "ipython",
    "version": 3
   },
   "file_extension": ".py",
   "mimetype": "text/x-python",
   "name": "python",
   "nbconvert_exporter": "python",
   "pygments_lexer": "ipython3",
   "version": "3.8.8"
  }
 },
 "nbformat": 4,
 "nbformat_minor": 4
}
